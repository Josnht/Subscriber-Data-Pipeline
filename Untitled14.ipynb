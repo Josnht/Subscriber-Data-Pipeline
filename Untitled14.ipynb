{
  "nbformat": 4,
  "nbformat_minor": 0,
  "metadata": {
    "colab": {
      "provenance": []
    },
    "kernelspec": {
      "name": "python3",
      "display_name": "Python 3"
    },
    "language_info": {
      "name": "python"
    }
  },
  "cells": [
    {
      "cell_type": "code",
      "execution_count": 1,
      "metadata": {
        "id": "KR7za0GfJoDI"
      },
      "outputs": [],
      "source": [
        "import pandas as pd \n",
        "from pandas import Series\n",
        "import numpy as np\n",
        "import matplotlib.pyplot as plt\n",
        "import seaborn as sns\n",
        "%matplotlib inline\n",
        "from sklearn.metrics import accuracy_score\n",
        "from sklearn.metrics import mean_squared_error, mean_absolute_error, mean_absolute_percentage_error\n",
        "import sklearn.metrics as metrics\n",
        "from sklearn import preprocessing\n",
        "import math\n",
        "import os.path\n",
        "from os import path\n",
        "from pylab import rcParams\n",
        "from random import randrange\n",
        "from pandas import Series\n",
        "from matplotlib import pyplot\n",
        "import pickle\n",
        "import os\n",
        "import joblib\n",
        "import sqlite3 as sql\n",
        "import ast"
      ]
    },
    {
      "cell_type": "code",
      "source": [
        "from google.colab import drive\n",
        "drive.mount('/content/drive')"
      ],
      "metadata": {
        "colab": {
          "base_uri": "https://localhost:8080/"
        },
        "id": "C0nLyyVLO0WK",
        "outputId": "da52a63c-30f9-47a4-9fb4-8c202ed47353"
      },
      "execution_count": 2,
      "outputs": [
        {
          "output_type": "stream",
          "name": "stdout",
          "text": [
            "Mounted at /content/drive\n"
          ]
        }
      ]
    },
    {
      "cell_type": "code",
      "source": [
        "con = sql.connect(\"/content/drive/MyDrive/cademycode.db\")"
      ],
      "metadata": {
        "id": "LzMDOdYPN_Ue"
      },
      "execution_count": 3,
      "outputs": []
    },
    {
      "cell_type": "code",
      "source": [
        "cur = con.cursor()"
      ],
      "metadata": {
        "id": "8k_OH168SqzQ"
      },
      "execution_count": 4,
      "outputs": []
    },
    {
      "cell_type": "code",
      "source": [
        "tb_list = [a for a in cur.execute(\"SELECT name FROM sqlite_master WHERE type = 'table'\")]\n",
        "print(tb_list)"
      ],
      "metadata": {
        "colab": {
          "base_uri": "https://localhost:8080/"
        },
        "id": "nz35CUo5TjDA",
        "outputId": "d38cc84a-c4a0-4e6e-a969-3dd6f079b039"
      },
      "execution_count": 5,
      "outputs": [
        {
          "output_type": "stream",
          "name": "stdout",
          "text": [
            "[('cademycode_students',), ('cademycode_courses',), ('cademycode_student_jobs',)]\n"
          ]
        }
      ]
    },
    {
      "cell_type": "code",
      "source": [
        "students = pd.read_sql_query(\"SELECT * FROM cademycode_students\", con)\n",
        "course = pd.read_sql_query(\"SELECT * FROM cademycode_courses\", con)\n",
        "jobs = pd.read_sql_query(\"SELECT * FROM cademycode_student_jobs\", con)"
      ],
      "metadata": {
        "id": "9UXwU2HbPzHW"
      },
      "execution_count": 6,
      "outputs": []
    },
    {
      "cell_type": "code",
      "source": [
        "print(students)"
      ],
      "metadata": {
        "colab": {
          "base_uri": "https://localhost:8080/"
        },
        "id": "Z3R3zDxyT1iy",
        "outputId": "91136b0a-ee33-46cb-b062-26fa26b16c0a"
      },
      "execution_count": 7,
      "outputs": [
        {
          "output_type": "stream",
          "name": "stdout",
          "text": [
            "      uuid                      name         dob sex  \\\n",
            "0        1           Annabelle Avery  1943-07-03   F   \n",
            "1        2               Micah Rubio  1991-02-07   M   \n",
            "2        3                Hosea Dale  1989-12-07   M   \n",
            "3        4              Mariann Kirk  1988-07-31   F   \n",
            "4        5           Lucio Alexander  1963-08-31   M   \n",
            "...    ...                       ...         ...  ..   \n",
            "4995  4996          Quentin van Harn  1967-07-07   N   \n",
            "4996  4997  Alejandro van der Sluijs  1964-11-03   M   \n",
            "4997  4998            Brock Mckenzie  2004-11-25   M   \n",
            "4998  4999          Donnetta Dillard  1943-02-12   N   \n",
            "4999  5000               Elton Otway  1994-12-23   M   \n",
            "\n",
            "                                           contact_info job_id  \\\n",
            "0     {\"mailing_address\": \"303 N Timber Key, Irondal...    7.0   \n",
            "1     {\"mailing_address\": \"767 Crescent Fair, Shoals...    7.0   \n",
            "2     {\"mailing_address\": \"P.O. Box 41269, St. Bonav...    7.0   \n",
            "3     {\"mailing_address\": \"517 SE Wintergreen Isle, ...    6.0   \n",
            "4     {\"mailing_address\": \"18 Cinder Cliff, Doyles b...    7.0   \n",
            "...                                                 ...    ...   \n",
            "4995  {\"mailing_address\": \"591 Blue Berry, Coulee, I...    5.0   \n",
            "4996  {\"mailing_address\": \"30 Iron Divide, Pewaukee ...    4.0   \n",
            "4997  {\"mailing_address\": \"684 Rustic Rest Avenue, C...    8.0   \n",
            "4998  {\"mailing_address\": \"900 Indian Oval, Euclid, ...    3.0   \n",
            "4999  {\"mailing_address\": \"406 Zephyr Port, Oskaloos...    2.0   \n",
            "\n",
            "     num_course_taken current_career_path_id time_spent_hrs  \n",
            "0                 6.0                    1.0           4.99  \n",
            "1                 5.0                    8.0            4.4  \n",
            "2                 8.0                    8.0           6.74  \n",
            "3                 7.0                    9.0          12.31  \n",
            "4                14.0                    3.0           5.64  \n",
            "...               ...                    ...            ...  \n",
            "4995              5.0                    2.0          13.82  \n",
            "4996             13.0                    1.0           7.86  \n",
            "4997             10.0                    3.0           12.1  \n",
            "4998              6.0                    5.0          14.86  \n",
            "4999              5.0                    3.0          10.04  \n",
            "\n",
            "[5000 rows x 9 columns]\n"
          ]
        }
      ]
    },
    {
      "cell_type": "code",
      "source": [
        "print(course)"
      ],
      "metadata": {
        "colab": {
          "base_uri": "https://localhost:8080/"
        },
        "id": "2f5SxBANULAm",
        "outputId": "2e15c757-c5aa-47b3-e1f6-67981079e015"
      },
      "execution_count": 8,
      "outputs": [
        {
          "output_type": "stream",
          "name": "stdout",
          "text": [
            "   career_path_id           career_path_name  hours_to_complete\n",
            "0               1             data scientist                 20\n",
            "1               2              data engineer                 20\n",
            "2               3               data analyst                 12\n",
            "3               4       software engineering                 25\n",
            "4               5           backend engineer                 18\n",
            "5               6          frontend engineer                 20\n",
            "6               7              iOS developer                 27\n",
            "7               8          android developer                 27\n",
            "8               9  machine learning engineer                 35\n",
            "9              10             ux/ui designer                 15\n"
          ]
        }
      ]
    },
    {
      "cell_type": "code",
      "source": [
        "print(jobs)"
      ],
      "metadata": {
        "colab": {
          "base_uri": "https://localhost:8080/"
        },
        "outputId": "48afd63b-d3e0-4630-8ccf-8e6e286df450",
        "id": "00zBnYslURoB"
      },
      "execution_count": 9,
      "outputs": [
        {
          "output_type": "stream",
          "name": "stdout",
          "text": [
            "    job_id        job_category  avg_salary\n",
            "0        1           analytics       86000\n",
            "1        2            engineer      101000\n",
            "2        3  software developer      110000\n",
            "3        4            creative       66000\n",
            "4        5  financial services      135000\n",
            "5        6           education       61000\n",
            "6        7                  HR       80000\n",
            "7        8             student       10000\n",
            "8        9          healthcare      120000\n",
            "9        0               other       80000\n",
            "10       3  software developer      110000\n",
            "11       4            creative       66000\n",
            "12       5  financial services      135000\n"
          ]
        }
      ]
    },
    {
      "cell_type": "code",
      "source": [
        "students.info()"
      ],
      "metadata": {
        "colab": {
          "base_uri": "https://localhost:8080/"
        },
        "id": "MKRA7O4gU4dd",
        "outputId": "4b15ec59-67d6-429c-a3d9-a1ee2d509d95"
      },
      "execution_count": 10,
      "outputs": [
        {
          "output_type": "stream",
          "name": "stdout",
          "text": [
            "<class 'pandas.core.frame.DataFrame'>\n",
            "RangeIndex: 5000 entries, 0 to 4999\n",
            "Data columns (total 9 columns):\n",
            " #   Column                  Non-Null Count  Dtype \n",
            "---  ------                  --------------  ----- \n",
            " 0   uuid                    5000 non-null   int64 \n",
            " 1   name                    5000 non-null   object\n",
            " 2   dob                     5000 non-null   object\n",
            " 3   sex                     5000 non-null   object\n",
            " 4   contact_info            5000 non-null   object\n",
            " 5   job_id                  4995 non-null   object\n",
            " 6   num_course_taken        4749 non-null   object\n",
            " 7   current_career_path_id  4529 non-null   object\n",
            " 8   time_spent_hrs          4529 non-null   object\n",
            "dtypes: int64(1), object(8)\n",
            "memory usage: 351.7+ KB\n"
          ]
        }
      ]
    },
    {
      "cell_type": "code",
      "source": [
        "students[students.isnull().any(axis=1)]"
      ],
      "metadata": {
        "colab": {
          "base_uri": "https://localhost:8080/",
          "height": 424
        },
        "id": "qZaMO4VVVAsv",
        "outputId": "8a6effb5-5291-41bf-c1b2-ae732e791cda"
      },
      "execution_count": 11,
      "outputs": [
        {
          "output_type": "execute_result",
          "data": {
            "text/plain": [
              "      uuid                   name         dob sex  \\\n",
              "15      16          Norene Dalton  1976-04-30   F   \n",
              "19      20  Sofia van Steenbergen  1990-02-21   N   \n",
              "25      26          Doug Browning  1970-06-08   M   \n",
              "26      27        Damon Schrauwen  1953-10-31   M   \n",
              "30      31      Christoper Warner  1989-12-28   M   \n",
              "...    ...                    ...         ...  ..   \n",
              "4948  4949      Dewitt van Malsem  1949-03-08   M   \n",
              "4956  4957          Todd Stamhuis  1961-06-15   M   \n",
              "4974  4975         Jorge Creelman  1944-11-24   M   \n",
              "4980  4981         Brice Franklin  1946-12-01   M   \n",
              "4985  4986           Russel Vonck  1994-09-07   M   \n",
              "\n",
              "                                           contact_info job_id  \\\n",
              "15    {\"mailing_address\": \"130 Wishing Essex, Branch...    6.0   \n",
              "19    {\"mailing_address\": \"634 Clear Barn Dell, Beam...    7.0   \n",
              "25    {\"mailing_address\": \"P.O. Box 15845, Devine, F...    7.0   \n",
              "26    {\"mailing_address\": \"P.O. Box 84659, Maben, Ge...    4.0   \n",
              "30    {\"mailing_address\": \"556 Stony Highlands, Drai...    2.0   \n",
              "...                                                 ...    ...   \n",
              "4948  {\"mailing_address\": \"423 Course Trail, Wilmot,...    4.0   \n",
              "4956  {\"mailing_address\": \"251 Grand Rose Underpass,...    7.0   \n",
              "4974  {\"mailing_address\": \"919 Well Overpass, Linden...    2.0   \n",
              "4980  {\"mailing_address\": \"947 Panda Way, New Bedfor...    4.0   \n",
              "4985  {\"mailing_address\": \"815 Middle Timber Corner,...    5.0   \n",
              "\n",
              "     num_course_taken current_career_path_id time_spent_hrs  \n",
              "15                0.0                   None           None  \n",
              "19               13.0                   None           None  \n",
              "25               None                    5.0           1.92  \n",
              "26               None                   10.0           3.73  \n",
              "30                5.0                   None           None  \n",
              "...               ...                    ...            ...  \n",
              "4948              7.0                   None           None  \n",
              "4956              8.0                   None           None  \n",
              "4974             15.0                   None           None  \n",
              "4980             None                    5.0           8.66  \n",
              "4985             None                    5.0          16.44  \n",
              "\n",
              "[707 rows x 9 columns]"
            ],
            "text/html": [
              "\n",
              "  <div id=\"df-479d8894-6468-41d0-9553-1e34cc36668f\">\n",
              "    <div class=\"colab-df-container\">\n",
              "      <div>\n",
              "<style scoped>\n",
              "    .dataframe tbody tr th:only-of-type {\n",
              "        vertical-align: middle;\n",
              "    }\n",
              "\n",
              "    .dataframe tbody tr th {\n",
              "        vertical-align: top;\n",
              "    }\n",
              "\n",
              "    .dataframe thead th {\n",
              "        text-align: right;\n",
              "    }\n",
              "</style>\n",
              "<table border=\"1\" class=\"dataframe\">\n",
              "  <thead>\n",
              "    <tr style=\"text-align: right;\">\n",
              "      <th></th>\n",
              "      <th>uuid</th>\n",
              "      <th>name</th>\n",
              "      <th>dob</th>\n",
              "      <th>sex</th>\n",
              "      <th>contact_info</th>\n",
              "      <th>job_id</th>\n",
              "      <th>num_course_taken</th>\n",
              "      <th>current_career_path_id</th>\n",
              "      <th>time_spent_hrs</th>\n",
              "    </tr>\n",
              "  </thead>\n",
              "  <tbody>\n",
              "    <tr>\n",
              "      <th>15</th>\n",
              "      <td>16</td>\n",
              "      <td>Norene Dalton</td>\n",
              "      <td>1976-04-30</td>\n",
              "      <td>F</td>\n",
              "      <td>{\"mailing_address\": \"130 Wishing Essex, Branch...</td>\n",
              "      <td>6.0</td>\n",
              "      <td>0.0</td>\n",
              "      <td>None</td>\n",
              "      <td>None</td>\n",
              "    </tr>\n",
              "    <tr>\n",
              "      <th>19</th>\n",
              "      <td>20</td>\n",
              "      <td>Sofia van Steenbergen</td>\n",
              "      <td>1990-02-21</td>\n",
              "      <td>N</td>\n",
              "      <td>{\"mailing_address\": \"634 Clear Barn Dell, Beam...</td>\n",
              "      <td>7.0</td>\n",
              "      <td>13.0</td>\n",
              "      <td>None</td>\n",
              "      <td>None</td>\n",
              "    </tr>\n",
              "    <tr>\n",
              "      <th>25</th>\n",
              "      <td>26</td>\n",
              "      <td>Doug Browning</td>\n",
              "      <td>1970-06-08</td>\n",
              "      <td>M</td>\n",
              "      <td>{\"mailing_address\": \"P.O. Box 15845, Devine, F...</td>\n",
              "      <td>7.0</td>\n",
              "      <td>None</td>\n",
              "      <td>5.0</td>\n",
              "      <td>1.92</td>\n",
              "    </tr>\n",
              "    <tr>\n",
              "      <th>26</th>\n",
              "      <td>27</td>\n",
              "      <td>Damon Schrauwen</td>\n",
              "      <td>1953-10-31</td>\n",
              "      <td>M</td>\n",
              "      <td>{\"mailing_address\": \"P.O. Box 84659, Maben, Ge...</td>\n",
              "      <td>4.0</td>\n",
              "      <td>None</td>\n",
              "      <td>10.0</td>\n",
              "      <td>3.73</td>\n",
              "    </tr>\n",
              "    <tr>\n",
              "      <th>30</th>\n",
              "      <td>31</td>\n",
              "      <td>Christoper Warner</td>\n",
              "      <td>1989-12-28</td>\n",
              "      <td>M</td>\n",
              "      <td>{\"mailing_address\": \"556 Stony Highlands, Drai...</td>\n",
              "      <td>2.0</td>\n",
              "      <td>5.0</td>\n",
              "      <td>None</td>\n",
              "      <td>None</td>\n",
              "    </tr>\n",
              "    <tr>\n",
              "      <th>...</th>\n",
              "      <td>...</td>\n",
              "      <td>...</td>\n",
              "      <td>...</td>\n",
              "      <td>...</td>\n",
              "      <td>...</td>\n",
              "      <td>...</td>\n",
              "      <td>...</td>\n",
              "      <td>...</td>\n",
              "      <td>...</td>\n",
              "    </tr>\n",
              "    <tr>\n",
              "      <th>4948</th>\n",
              "      <td>4949</td>\n",
              "      <td>Dewitt van Malsem</td>\n",
              "      <td>1949-03-08</td>\n",
              "      <td>M</td>\n",
              "      <td>{\"mailing_address\": \"423 Course Trail, Wilmot,...</td>\n",
              "      <td>4.0</td>\n",
              "      <td>7.0</td>\n",
              "      <td>None</td>\n",
              "      <td>None</td>\n",
              "    </tr>\n",
              "    <tr>\n",
              "      <th>4956</th>\n",
              "      <td>4957</td>\n",
              "      <td>Todd Stamhuis</td>\n",
              "      <td>1961-06-15</td>\n",
              "      <td>M</td>\n",
              "      <td>{\"mailing_address\": \"251 Grand Rose Underpass,...</td>\n",
              "      <td>7.0</td>\n",
              "      <td>8.0</td>\n",
              "      <td>None</td>\n",
              "      <td>None</td>\n",
              "    </tr>\n",
              "    <tr>\n",
              "      <th>4974</th>\n",
              "      <td>4975</td>\n",
              "      <td>Jorge Creelman</td>\n",
              "      <td>1944-11-24</td>\n",
              "      <td>M</td>\n",
              "      <td>{\"mailing_address\": \"919 Well Overpass, Linden...</td>\n",
              "      <td>2.0</td>\n",
              "      <td>15.0</td>\n",
              "      <td>None</td>\n",
              "      <td>None</td>\n",
              "    </tr>\n",
              "    <tr>\n",
              "      <th>4980</th>\n",
              "      <td>4981</td>\n",
              "      <td>Brice Franklin</td>\n",
              "      <td>1946-12-01</td>\n",
              "      <td>M</td>\n",
              "      <td>{\"mailing_address\": \"947 Panda Way, New Bedfor...</td>\n",
              "      <td>4.0</td>\n",
              "      <td>None</td>\n",
              "      <td>5.0</td>\n",
              "      <td>8.66</td>\n",
              "    </tr>\n",
              "    <tr>\n",
              "      <th>4985</th>\n",
              "      <td>4986</td>\n",
              "      <td>Russel Vonck</td>\n",
              "      <td>1994-09-07</td>\n",
              "      <td>M</td>\n",
              "      <td>{\"mailing_address\": \"815 Middle Timber Corner,...</td>\n",
              "      <td>5.0</td>\n",
              "      <td>None</td>\n",
              "      <td>5.0</td>\n",
              "      <td>16.44</td>\n",
              "    </tr>\n",
              "  </tbody>\n",
              "</table>\n",
              "<p>707 rows × 9 columns</p>\n",
              "</div>\n",
              "      <button class=\"colab-df-convert\" onclick=\"convertToInteractive('df-479d8894-6468-41d0-9553-1e34cc36668f')\"\n",
              "              title=\"Convert this dataframe to an interactive table.\"\n",
              "              style=\"display:none;\">\n",
              "        \n",
              "  <svg xmlns=\"http://www.w3.org/2000/svg\" height=\"24px\"viewBox=\"0 0 24 24\"\n",
              "       width=\"24px\">\n",
              "    <path d=\"M0 0h24v24H0V0z\" fill=\"none\"/>\n",
              "    <path d=\"M18.56 5.44l.94 2.06.94-2.06 2.06-.94-2.06-.94-.94-2.06-.94 2.06-2.06.94zm-11 1L8.5 8.5l.94-2.06 2.06-.94-2.06-.94L8.5 2.5l-.94 2.06-2.06.94zm10 10l.94 2.06.94-2.06 2.06-.94-2.06-.94-.94-2.06-.94 2.06-2.06.94z\"/><path d=\"M17.41 7.96l-1.37-1.37c-.4-.4-.92-.59-1.43-.59-.52 0-1.04.2-1.43.59L10.3 9.45l-7.72 7.72c-.78.78-.78 2.05 0 2.83L4 21.41c.39.39.9.59 1.41.59.51 0 1.02-.2 1.41-.59l7.78-7.78 2.81-2.81c.8-.78.8-2.07 0-2.86zM5.41 20L4 18.59l7.72-7.72 1.47 1.35L5.41 20z\"/>\n",
              "  </svg>\n",
              "      </button>\n",
              "      \n",
              "  <style>\n",
              "    .colab-df-container {\n",
              "      display:flex;\n",
              "      flex-wrap:wrap;\n",
              "      gap: 12px;\n",
              "    }\n",
              "\n",
              "    .colab-df-convert {\n",
              "      background-color: #E8F0FE;\n",
              "      border: none;\n",
              "      border-radius: 50%;\n",
              "      cursor: pointer;\n",
              "      display: none;\n",
              "      fill: #1967D2;\n",
              "      height: 32px;\n",
              "      padding: 0 0 0 0;\n",
              "      width: 32px;\n",
              "    }\n",
              "\n",
              "    .colab-df-convert:hover {\n",
              "      background-color: #E2EBFA;\n",
              "      box-shadow: 0px 1px 2px rgba(60, 64, 67, 0.3), 0px 1px 3px 1px rgba(60, 64, 67, 0.15);\n",
              "      fill: #174EA6;\n",
              "    }\n",
              "\n",
              "    [theme=dark] .colab-df-convert {\n",
              "      background-color: #3B4455;\n",
              "      fill: #D2E3FC;\n",
              "    }\n",
              "\n",
              "    [theme=dark] .colab-df-convert:hover {\n",
              "      background-color: #434B5C;\n",
              "      box-shadow: 0px 1px 3px 1px rgba(0, 0, 0, 0.15);\n",
              "      filter: drop-shadow(0px 1px 2px rgba(0, 0, 0, 0.3));\n",
              "      fill: #FFFFFF;\n",
              "    }\n",
              "  </style>\n",
              "\n",
              "      <script>\n",
              "        const buttonEl =\n",
              "          document.querySelector('#df-479d8894-6468-41d0-9553-1e34cc36668f button.colab-df-convert');\n",
              "        buttonEl.style.display =\n",
              "          google.colab.kernel.accessAllowed ? 'block' : 'none';\n",
              "\n",
              "        async function convertToInteractive(key) {\n",
              "          const element = document.querySelector('#df-479d8894-6468-41d0-9553-1e34cc36668f');\n",
              "          const dataTable =\n",
              "            await google.colab.kernel.invokeFunction('convertToInteractive',\n",
              "                                                     [key], {});\n",
              "          if (!dataTable) return;\n",
              "\n",
              "          const docLinkHtml = 'Like what you see? Visit the ' +\n",
              "            '<a target=\"_blank\" href=https://colab.research.google.com/notebooks/data_table.ipynb>data table notebook</a>'\n",
              "            + ' to learn more about interactive tables.';\n",
              "          element.innerHTML = '';\n",
              "          dataTable['output_type'] = 'display_data';\n",
              "          await google.colab.output.renderOutput(dataTable, element);\n",
              "          const docLink = document.createElement('div');\n",
              "          docLink.innerHTML = docLinkHtml;\n",
              "          element.appendChild(docLink);\n",
              "        }\n",
              "      </script>\n",
              "    </div>\n",
              "  </div>\n",
              "  "
            ]
          },
          "metadata": {},
          "execution_count": 11
        }
      ]
    },
    {
      "cell_type": "code",
      "source": [
        "now = pd.to_datetime('now')\n",
        "students['age']= (now - pd.to_datetime(students['dob'])).astype('<m8[Y]')"
      ],
      "metadata": {
        "id": "7Vtb2RDho7Cj"
      },
      "execution_count": 12,
      "outputs": []
    },
    {
      "cell_type": "code",
      "source": [
        "students['age_group'] = np.int64((students['age']/10))*10"
      ],
      "metadata": {
        "id": "Hmmh8dYgpcXC"
      },
      "execution_count": 13,
      "outputs": []
    },
    {
      "cell_type": "code",
      "source": [
        "print(students)"
      ],
      "metadata": {
        "colab": {
          "base_uri": "https://localhost:8080/"
        },
        "id": "iaEEQowzpo42",
        "outputId": "dd9fdb25-b4c5-4917-8450-8c273993586b"
      },
      "execution_count": 14,
      "outputs": [
        {
          "output_type": "stream",
          "name": "stdout",
          "text": [
            "      uuid                      name         dob sex  \\\n",
            "0        1           Annabelle Avery  1943-07-03   F   \n",
            "1        2               Micah Rubio  1991-02-07   M   \n",
            "2        3                Hosea Dale  1989-12-07   M   \n",
            "3        4              Mariann Kirk  1988-07-31   F   \n",
            "4        5           Lucio Alexander  1963-08-31   M   \n",
            "...    ...                       ...         ...  ..   \n",
            "4995  4996          Quentin van Harn  1967-07-07   N   \n",
            "4996  4997  Alejandro van der Sluijs  1964-11-03   M   \n",
            "4997  4998            Brock Mckenzie  2004-11-25   M   \n",
            "4998  4999          Donnetta Dillard  1943-02-12   N   \n",
            "4999  5000               Elton Otway  1994-12-23   M   \n",
            "\n",
            "                                           contact_info job_id  \\\n",
            "0     {\"mailing_address\": \"303 N Timber Key, Irondal...    7.0   \n",
            "1     {\"mailing_address\": \"767 Crescent Fair, Shoals...    7.0   \n",
            "2     {\"mailing_address\": \"P.O. Box 41269, St. Bonav...    7.0   \n",
            "3     {\"mailing_address\": \"517 SE Wintergreen Isle, ...    6.0   \n",
            "4     {\"mailing_address\": \"18 Cinder Cliff, Doyles b...    7.0   \n",
            "...                                                 ...    ...   \n",
            "4995  {\"mailing_address\": \"591 Blue Berry, Coulee, I...    5.0   \n",
            "4996  {\"mailing_address\": \"30 Iron Divide, Pewaukee ...    4.0   \n",
            "4997  {\"mailing_address\": \"684 Rustic Rest Avenue, C...    8.0   \n",
            "4998  {\"mailing_address\": \"900 Indian Oval, Euclid, ...    3.0   \n",
            "4999  {\"mailing_address\": \"406 Zephyr Port, Oskaloos...    2.0   \n",
            "\n",
            "     num_course_taken current_career_path_id time_spent_hrs   age  age_group  \n",
            "0                 6.0                    1.0           4.99  79.0         70  \n",
            "1                 5.0                    8.0            4.4  31.0         30  \n",
            "2                 8.0                    8.0           6.74  33.0         30  \n",
            "3                 7.0                    9.0          12.31  34.0         30  \n",
            "4                14.0                    3.0           5.64  59.0         50  \n",
            "...               ...                    ...            ...   ...        ...  \n",
            "4995              5.0                    2.0          13.82  55.0         50  \n",
            "4996             13.0                    1.0           7.86  58.0         50  \n",
            "4997             10.0                    3.0           12.1  18.0         10  \n",
            "4998              6.0                    5.0          14.86  79.0         70  \n",
            "4999              5.0                    3.0          10.04  28.0         20  \n",
            "\n",
            "[5000 rows x 11 columns]\n"
          ]
        }
      ]
    },
    {
      "cell_type": "code",
      "source": [
        "students['contact_info'] = students[\"contact_info\"].apply(lambda x: ast.literal_eval(x))\n",
        "explode_contact = pd.json_normalize(students['contact_info'])\n",
        "students = pd.concat([students.drop('contact_info', axis=1), explode_contact], axis=1)"
      ],
      "metadata": {
        "id": "NWvexCsMCs7P"
      },
      "execution_count": 15,
      "outputs": []
    },
    {
      "cell_type": "code",
      "source": [
        "split_address = students.mailing_address.str.split(',', expand=True)\n",
        "split_address.columns = ['street', 'city', 'state', 'zip_code']\n",
        "students = pd.concat([students.drop('mailing_address', axis=1), split_address], axis=1)\n",
        "students.head()"
      ],
      "metadata": {
        "colab": {
          "base_uri": "https://localhost:8080/",
          "height": 354
        },
        "id": "gJEHk80YC1Ce",
        "outputId": "bd2c4eb2-b491-4af0-94c1-35a77eaa4d7c"
      },
      "execution_count": 16,
      "outputs": [
        {
          "output_type": "execute_result",
          "data": {
            "text/plain": [
              "   uuid             name         dob sex job_id num_course_taken  \\\n",
              "0     1  Annabelle Avery  1943-07-03   F    7.0              6.0   \n",
              "1     2      Micah Rubio  1991-02-07   M    7.0              5.0   \n",
              "2     3       Hosea Dale  1989-12-07   M    7.0              8.0   \n",
              "3     4     Mariann Kirk  1988-07-31   F    6.0              7.0   \n",
              "4     5  Lucio Alexander  1963-08-31   M    7.0             14.0   \n",
              "\n",
              "  current_career_path_id time_spent_hrs   age  age_group  \\\n",
              "0                    1.0           4.99  79.0         70   \n",
              "1                    8.0            4.4  31.0         30   \n",
              "2                    8.0           6.74  33.0         30   \n",
              "3                    9.0          12.31  34.0         30   \n",
              "4                    3.0           5.64  59.0         50   \n",
              "\n",
              "                            email                   street              city  \\\n",
              "0  annabelle_avery9376@woohoo.com         303 N Timber Key          Irondale   \n",
              "1             rubio6772@hmail.com        767 Crescent Fair            Shoals   \n",
              "2     hosea_dale8084@coldmail.com           P.O. Box 41269   St. Bonaventure   \n",
              "3              kirk4005@hmail.com  517 SE Wintergreen Isle              Lane   \n",
              "4         alexander9810@hmail.com          18 Cinder Cliff    Doyles borough   \n",
              "\n",
              "           state zip_code  \n",
              "0      Wisconsin    84736  \n",
              "1        Indiana    37439  \n",
              "2       Virginia    83637  \n",
              "3       Arkansas    82242  \n",
              "4   Rhode Island    73737  "
            ],
            "text/html": [
              "\n",
              "  <div id=\"df-88030208-5995-486e-a2b5-b6c762ee835b\">\n",
              "    <div class=\"colab-df-container\">\n",
              "      <div>\n",
              "<style scoped>\n",
              "    .dataframe tbody tr th:only-of-type {\n",
              "        vertical-align: middle;\n",
              "    }\n",
              "\n",
              "    .dataframe tbody tr th {\n",
              "        vertical-align: top;\n",
              "    }\n",
              "\n",
              "    .dataframe thead th {\n",
              "        text-align: right;\n",
              "    }\n",
              "</style>\n",
              "<table border=\"1\" class=\"dataframe\">\n",
              "  <thead>\n",
              "    <tr style=\"text-align: right;\">\n",
              "      <th></th>\n",
              "      <th>uuid</th>\n",
              "      <th>name</th>\n",
              "      <th>dob</th>\n",
              "      <th>sex</th>\n",
              "      <th>job_id</th>\n",
              "      <th>num_course_taken</th>\n",
              "      <th>current_career_path_id</th>\n",
              "      <th>time_spent_hrs</th>\n",
              "      <th>age</th>\n",
              "      <th>age_group</th>\n",
              "      <th>email</th>\n",
              "      <th>street</th>\n",
              "      <th>city</th>\n",
              "      <th>state</th>\n",
              "      <th>zip_code</th>\n",
              "    </tr>\n",
              "  </thead>\n",
              "  <tbody>\n",
              "    <tr>\n",
              "      <th>0</th>\n",
              "      <td>1</td>\n",
              "      <td>Annabelle Avery</td>\n",
              "      <td>1943-07-03</td>\n",
              "      <td>F</td>\n",
              "      <td>7.0</td>\n",
              "      <td>6.0</td>\n",
              "      <td>1.0</td>\n",
              "      <td>4.99</td>\n",
              "      <td>79.0</td>\n",
              "      <td>70</td>\n",
              "      <td>annabelle_avery9376@woohoo.com</td>\n",
              "      <td>303 N Timber Key</td>\n",
              "      <td>Irondale</td>\n",
              "      <td>Wisconsin</td>\n",
              "      <td>84736</td>\n",
              "    </tr>\n",
              "    <tr>\n",
              "      <th>1</th>\n",
              "      <td>2</td>\n",
              "      <td>Micah Rubio</td>\n",
              "      <td>1991-02-07</td>\n",
              "      <td>M</td>\n",
              "      <td>7.0</td>\n",
              "      <td>5.0</td>\n",
              "      <td>8.0</td>\n",
              "      <td>4.4</td>\n",
              "      <td>31.0</td>\n",
              "      <td>30</td>\n",
              "      <td>rubio6772@hmail.com</td>\n",
              "      <td>767 Crescent Fair</td>\n",
              "      <td>Shoals</td>\n",
              "      <td>Indiana</td>\n",
              "      <td>37439</td>\n",
              "    </tr>\n",
              "    <tr>\n",
              "      <th>2</th>\n",
              "      <td>3</td>\n",
              "      <td>Hosea Dale</td>\n",
              "      <td>1989-12-07</td>\n",
              "      <td>M</td>\n",
              "      <td>7.0</td>\n",
              "      <td>8.0</td>\n",
              "      <td>8.0</td>\n",
              "      <td>6.74</td>\n",
              "      <td>33.0</td>\n",
              "      <td>30</td>\n",
              "      <td>hosea_dale8084@coldmail.com</td>\n",
              "      <td>P.O. Box 41269</td>\n",
              "      <td>St. Bonaventure</td>\n",
              "      <td>Virginia</td>\n",
              "      <td>83637</td>\n",
              "    </tr>\n",
              "    <tr>\n",
              "      <th>3</th>\n",
              "      <td>4</td>\n",
              "      <td>Mariann Kirk</td>\n",
              "      <td>1988-07-31</td>\n",
              "      <td>F</td>\n",
              "      <td>6.0</td>\n",
              "      <td>7.0</td>\n",
              "      <td>9.0</td>\n",
              "      <td>12.31</td>\n",
              "      <td>34.0</td>\n",
              "      <td>30</td>\n",
              "      <td>kirk4005@hmail.com</td>\n",
              "      <td>517 SE Wintergreen Isle</td>\n",
              "      <td>Lane</td>\n",
              "      <td>Arkansas</td>\n",
              "      <td>82242</td>\n",
              "    </tr>\n",
              "    <tr>\n",
              "      <th>4</th>\n",
              "      <td>5</td>\n",
              "      <td>Lucio Alexander</td>\n",
              "      <td>1963-08-31</td>\n",
              "      <td>M</td>\n",
              "      <td>7.0</td>\n",
              "      <td>14.0</td>\n",
              "      <td>3.0</td>\n",
              "      <td>5.64</td>\n",
              "      <td>59.0</td>\n",
              "      <td>50</td>\n",
              "      <td>alexander9810@hmail.com</td>\n",
              "      <td>18 Cinder Cliff</td>\n",
              "      <td>Doyles borough</td>\n",
              "      <td>Rhode Island</td>\n",
              "      <td>73737</td>\n",
              "    </tr>\n",
              "  </tbody>\n",
              "</table>\n",
              "</div>\n",
              "      <button class=\"colab-df-convert\" onclick=\"convertToInteractive('df-88030208-5995-486e-a2b5-b6c762ee835b')\"\n",
              "              title=\"Convert this dataframe to an interactive table.\"\n",
              "              style=\"display:none;\">\n",
              "        \n",
              "  <svg xmlns=\"http://www.w3.org/2000/svg\" height=\"24px\"viewBox=\"0 0 24 24\"\n",
              "       width=\"24px\">\n",
              "    <path d=\"M0 0h24v24H0V0z\" fill=\"none\"/>\n",
              "    <path d=\"M18.56 5.44l.94 2.06.94-2.06 2.06-.94-2.06-.94-.94-2.06-.94 2.06-2.06.94zm-11 1L8.5 8.5l.94-2.06 2.06-.94-2.06-.94L8.5 2.5l-.94 2.06-2.06.94zm10 10l.94 2.06.94-2.06 2.06-.94-2.06-.94-.94-2.06-.94 2.06-2.06.94z\"/><path d=\"M17.41 7.96l-1.37-1.37c-.4-.4-.92-.59-1.43-.59-.52 0-1.04.2-1.43.59L10.3 9.45l-7.72 7.72c-.78.78-.78 2.05 0 2.83L4 21.41c.39.39.9.59 1.41.59.51 0 1.02-.2 1.41-.59l7.78-7.78 2.81-2.81c.8-.78.8-2.07 0-2.86zM5.41 20L4 18.59l7.72-7.72 1.47 1.35L5.41 20z\"/>\n",
              "  </svg>\n",
              "      </button>\n",
              "      \n",
              "  <style>\n",
              "    .colab-df-container {\n",
              "      display:flex;\n",
              "      flex-wrap:wrap;\n",
              "      gap: 12px;\n",
              "    }\n",
              "\n",
              "    .colab-df-convert {\n",
              "      background-color: #E8F0FE;\n",
              "      border: none;\n",
              "      border-radius: 50%;\n",
              "      cursor: pointer;\n",
              "      display: none;\n",
              "      fill: #1967D2;\n",
              "      height: 32px;\n",
              "      padding: 0 0 0 0;\n",
              "      width: 32px;\n",
              "    }\n",
              "\n",
              "    .colab-df-convert:hover {\n",
              "      background-color: #E2EBFA;\n",
              "      box-shadow: 0px 1px 2px rgba(60, 64, 67, 0.3), 0px 1px 3px 1px rgba(60, 64, 67, 0.15);\n",
              "      fill: #174EA6;\n",
              "    }\n",
              "\n",
              "    [theme=dark] .colab-df-convert {\n",
              "      background-color: #3B4455;\n",
              "      fill: #D2E3FC;\n",
              "    }\n",
              "\n",
              "    [theme=dark] .colab-df-convert:hover {\n",
              "      background-color: #434B5C;\n",
              "      box-shadow: 0px 1px 3px 1px rgba(0, 0, 0, 0.15);\n",
              "      filter: drop-shadow(0px 1px 2px rgba(0, 0, 0, 0.3));\n",
              "      fill: #FFFFFF;\n",
              "    }\n",
              "  </style>\n",
              "\n",
              "      <script>\n",
              "        const buttonEl =\n",
              "          document.querySelector('#df-88030208-5995-486e-a2b5-b6c762ee835b button.colab-df-convert');\n",
              "        buttonEl.style.display =\n",
              "          google.colab.kernel.accessAllowed ? 'block' : 'none';\n",
              "\n",
              "        async function convertToInteractive(key) {\n",
              "          const element = document.querySelector('#df-88030208-5995-486e-a2b5-b6c762ee835b');\n",
              "          const dataTable =\n",
              "            await google.colab.kernel.invokeFunction('convertToInteractive',\n",
              "                                                     [key], {});\n",
              "          if (!dataTable) return;\n",
              "\n",
              "          const docLinkHtml = 'Like what you see? Visit the ' +\n",
              "            '<a target=\"_blank\" href=https://colab.research.google.com/notebooks/data_table.ipynb>data table notebook</a>'\n",
              "            + ' to learn more about interactive tables.';\n",
              "          element.innerHTML = '';\n",
              "          dataTable['output_type'] = 'display_data';\n",
              "          await google.colab.output.renderOutput(dataTable, element);\n",
              "          const docLink = document.createElement('div');\n",
              "          docLink.innerHTML = docLinkHtml;\n",
              "          element.appendChild(docLink);\n",
              "        }\n",
              "      </script>\n",
              "    </div>\n",
              "  </div>\n",
              "  "
            ]
          },
          "metadata": {},
          "execution_count": 16
        }
      ]
    },
    {
      "cell_type": "code",
      "source": [
        "students.info()"
      ],
      "metadata": {
        "colab": {
          "base_uri": "https://localhost:8080/"
        },
        "id": "xDhSuxxtDB6P",
        "outputId": "dd2398e7-9009-4f1c-cba7-0c62e5bb15bd"
      },
      "execution_count": 20,
      "outputs": [
        {
          "output_type": "stream",
          "name": "stdout",
          "text": [
            "<class 'pandas.core.frame.DataFrame'>\n",
            "RangeIndex: 5000 entries, 0 to 4999\n",
            "Data columns (total 15 columns):\n",
            " #   Column                  Non-Null Count  Dtype  \n",
            "---  ------                  --------------  -----  \n",
            " 0   uuid                    5000 non-null   int64  \n",
            " 1   name                    5000 non-null   object \n",
            " 2   dob                     5000 non-null   object \n",
            " 3   sex                     5000 non-null   object \n",
            " 4   job_id                  4995 non-null   object \n",
            " 5   num_course_taken        4749 non-null   object \n",
            " 6   current_career_path_id  4529 non-null   object \n",
            " 7   time_spent_hrs          4529 non-null   object \n",
            " 8   age                     5000 non-null   float64\n",
            " 9   age_group               5000 non-null   int64  \n",
            " 10  email                   5000 non-null   object \n",
            " 11  street                  5000 non-null   object \n",
            " 12  city                    5000 non-null   object \n",
            " 13  state                   5000 non-null   object \n",
            " 14  zip_code                5000 non-null   object \n",
            "dtypes: float64(1), int64(2), object(12)\n",
            "memory usage: 586.1+ KB\n"
          ]
        }
      ]
    },
    {
      "cell_type": "code",
      "source": [
        "students['job_id'] = students['job_id'].astype(float)\n",
        "students['current_career_path_id'] = students['current_career_path_id'].astype(float)\n",
        "students['num_course_taken'] = students['num_course_taken'].astype(float)\n",
        "students['time_spent_hrs'] = students['time_spent_hrs'].astype(float)"
      ],
      "metadata": {
        "id": "S2nlo6PNDIZe"
      },
      "execution_count": 21,
      "outputs": []
    },
    {
      "cell_type": "code",
      "source": [
        "students.info()"
      ],
      "metadata": {
        "colab": {
          "base_uri": "https://localhost:8080/"
        },
        "id": "DASOz1EWEFAv",
        "outputId": "1d1245b2-1c0c-4da0-ce3d-8a9ab3016f93"
      },
      "execution_count": 22,
      "outputs": [
        {
          "output_type": "stream",
          "name": "stdout",
          "text": [
            "<class 'pandas.core.frame.DataFrame'>\n",
            "RangeIndex: 5000 entries, 0 to 4999\n",
            "Data columns (total 15 columns):\n",
            " #   Column                  Non-Null Count  Dtype  \n",
            "---  ------                  --------------  -----  \n",
            " 0   uuid                    5000 non-null   int64  \n",
            " 1   name                    5000 non-null   object \n",
            " 2   dob                     5000 non-null   object \n",
            " 3   sex                     5000 non-null   object \n",
            " 4   job_id                  4995 non-null   float64\n",
            " 5   num_course_taken        4749 non-null   float64\n",
            " 6   current_career_path_id  4529 non-null   float64\n",
            " 7   time_spent_hrs          4529 non-null   float64\n",
            " 8   age                     5000 non-null   float64\n",
            " 9   age_group               5000 non-null   int64  \n",
            " 10  email                   5000 non-null   object \n",
            " 11  street                  5000 non-null   object \n",
            " 12  city                    5000 non-null   object \n",
            " 13  state                   5000 non-null   object \n",
            " 14  zip_code                5000 non-null   object \n",
            "dtypes: float64(5), int64(2), object(8)\n",
            "memory usage: 586.1+ KB\n"
          ]
        }
      ]
    },
    {
      "cell_type": "markdown",
      "source": [
        "#Missing data"
      ],
      "metadata": {
        "id": "FMrA6eGIJ0S6"
      }
    },
    {
      "cell_type": "markdown",
      "source": [
        "##num_course_taken"
      ],
      "metadata": {
        "id": "xmeOsbY7J7Ii"
      }
    },
    {
      "cell_type": "code",
      "source": [
        "missing_course_taken = students[students[['num_course_taken']].isnull().any(axis=1)]\n",
        "display(missing_course_taken)"
      ],
      "metadata": {
        "colab": {
          "base_uri": "https://localhost:8080/",
          "height": 676
        },
        "id": "SP7XwrOkEb1X",
        "outputId": "6e53e599-c1a0-49bc-d1ad-57462cbc9289"
      },
      "execution_count": 23,
      "outputs": [
        {
          "output_type": "display_data",
          "data": {
            "text/plain": [
              "      uuid             name         dob sex  job_id  num_course_taken  \\\n",
              "25      26    Doug Browning  1970-06-08   M     7.0               NaN   \n",
              "26      27  Damon Schrauwen  1953-10-31   M     4.0               NaN   \n",
              "51      52       Alisa Neil  1977-05-28   F     5.0               NaN   \n",
              "70      71  Chauncey Hooper  1962-04-07   M     3.0               NaN   \n",
              "80      81  Ellyn van Heest  1984-06-28   F     3.0               NaN   \n",
              "...    ...              ...         ...  ..     ...               ...   \n",
              "4889  4890    Tegan Cochran  1970-11-08   F     5.0               NaN   \n",
              "4898  4899   Ruthann Oliver  1998-05-22   F     3.0               NaN   \n",
              "4914  4915    Ernest Holmes  1995-03-11   M     7.0               NaN   \n",
              "4980  4981   Brice Franklin  1946-12-01   M     4.0               NaN   \n",
              "4985  4986     Russel Vonck  1994-09-07   M     5.0               NaN   \n",
              "\n",
              "      current_career_path_id  time_spent_hrs   age  age_group  \\\n",
              "25                       5.0            1.92  52.0         50   \n",
              "26                      10.0            3.73  69.0         60   \n",
              "51                       8.0           22.86  45.0         40   \n",
              "70                       3.0            3.97  60.0         60   \n",
              "80                      10.0           12.39  38.0         30   \n",
              "...                      ...             ...   ...        ...   \n",
              "4889                     8.0           22.75  52.0         50   \n",
              "4898                     7.0           21.27  24.0         20   \n",
              "4914                     9.0           26.50  27.0         20   \n",
              "4980                     5.0            8.66  76.0         70   \n",
              "4985                     5.0           16.44  28.0         20   \n",
              "\n",
              "                             email                    street  \\\n",
              "25             doug7761@inlook.com            P.O. Box 15845   \n",
              "26            damon9864@woohoo.com            P.O. Box 84659   \n",
              "51            alisa9616@inlook.com             16 View Annex   \n",
              "70         chauncey6352@woohoo.com             955 Dewy Flat   \n",
              "80    ellyn_vanheest8375@hmail.com           872 Cider Glade   \n",
              "...                            ...                       ...   \n",
              "4889           tegan130@inlook.com            106 Sunny Nook   \n",
              "4898        ruthann1124@woohoo.com          644 Merry Island   \n",
              "4914    ernest_holmes505@hmail.com    872 Wintergreen Harbor   \n",
              "4980        brice9741@coldmail.com             947 Panda Way   \n",
              "4985   russel_vonck2834@woohoo.com  815 Middle Timber Corner   \n",
              "\n",
              "                      city            state zip_code  \n",
              "25                  Devine          Florida    23097  \n",
              "26                   Maben          Georgia    66137  \n",
              "51                  Mosses     North Dakota    25748  \n",
              "70          Slaughterville   South Carolina    22167  \n",
              "80                 Chicken         Delaware    42689  \n",
              "...                    ...              ...      ...  \n",
              "4889                Vernal          Georgia    10769  \n",
              "4898          Green Valley          Wyoming    91273  \n",
              "4914     Gallitzin borough            Maine    50103  \n",
              "4980   New Bedford village          Vermont    31232  \n",
              "4985               Clawson     South Dakota    02949  \n",
              "\n",
              "[251 rows x 15 columns]"
            ],
            "text/html": [
              "\n",
              "  <div id=\"df-4ce30e91-ac2b-45e1-a256-96ecff4d6441\">\n",
              "    <div class=\"colab-df-container\">\n",
              "      <div>\n",
              "<style scoped>\n",
              "    .dataframe tbody tr th:only-of-type {\n",
              "        vertical-align: middle;\n",
              "    }\n",
              "\n",
              "    .dataframe tbody tr th {\n",
              "        vertical-align: top;\n",
              "    }\n",
              "\n",
              "    .dataframe thead th {\n",
              "        text-align: right;\n",
              "    }\n",
              "</style>\n",
              "<table border=\"1\" class=\"dataframe\">\n",
              "  <thead>\n",
              "    <tr style=\"text-align: right;\">\n",
              "      <th></th>\n",
              "      <th>uuid</th>\n",
              "      <th>name</th>\n",
              "      <th>dob</th>\n",
              "      <th>sex</th>\n",
              "      <th>job_id</th>\n",
              "      <th>num_course_taken</th>\n",
              "      <th>current_career_path_id</th>\n",
              "      <th>time_spent_hrs</th>\n",
              "      <th>age</th>\n",
              "      <th>age_group</th>\n",
              "      <th>email</th>\n",
              "      <th>street</th>\n",
              "      <th>city</th>\n",
              "      <th>state</th>\n",
              "      <th>zip_code</th>\n",
              "    </tr>\n",
              "  </thead>\n",
              "  <tbody>\n",
              "    <tr>\n",
              "      <th>25</th>\n",
              "      <td>26</td>\n",
              "      <td>Doug Browning</td>\n",
              "      <td>1970-06-08</td>\n",
              "      <td>M</td>\n",
              "      <td>7.0</td>\n",
              "      <td>NaN</td>\n",
              "      <td>5.0</td>\n",
              "      <td>1.92</td>\n",
              "      <td>52.0</td>\n",
              "      <td>50</td>\n",
              "      <td>doug7761@inlook.com</td>\n",
              "      <td>P.O. Box 15845</td>\n",
              "      <td>Devine</td>\n",
              "      <td>Florida</td>\n",
              "      <td>23097</td>\n",
              "    </tr>\n",
              "    <tr>\n",
              "      <th>26</th>\n",
              "      <td>27</td>\n",
              "      <td>Damon Schrauwen</td>\n",
              "      <td>1953-10-31</td>\n",
              "      <td>M</td>\n",
              "      <td>4.0</td>\n",
              "      <td>NaN</td>\n",
              "      <td>10.0</td>\n",
              "      <td>3.73</td>\n",
              "      <td>69.0</td>\n",
              "      <td>60</td>\n",
              "      <td>damon9864@woohoo.com</td>\n",
              "      <td>P.O. Box 84659</td>\n",
              "      <td>Maben</td>\n",
              "      <td>Georgia</td>\n",
              "      <td>66137</td>\n",
              "    </tr>\n",
              "    <tr>\n",
              "      <th>51</th>\n",
              "      <td>52</td>\n",
              "      <td>Alisa Neil</td>\n",
              "      <td>1977-05-28</td>\n",
              "      <td>F</td>\n",
              "      <td>5.0</td>\n",
              "      <td>NaN</td>\n",
              "      <td>8.0</td>\n",
              "      <td>22.86</td>\n",
              "      <td>45.0</td>\n",
              "      <td>40</td>\n",
              "      <td>alisa9616@inlook.com</td>\n",
              "      <td>16 View Annex</td>\n",
              "      <td>Mosses</td>\n",
              "      <td>North Dakota</td>\n",
              "      <td>25748</td>\n",
              "    </tr>\n",
              "    <tr>\n",
              "      <th>70</th>\n",
              "      <td>71</td>\n",
              "      <td>Chauncey Hooper</td>\n",
              "      <td>1962-04-07</td>\n",
              "      <td>M</td>\n",
              "      <td>3.0</td>\n",
              "      <td>NaN</td>\n",
              "      <td>3.0</td>\n",
              "      <td>3.97</td>\n",
              "      <td>60.0</td>\n",
              "      <td>60</td>\n",
              "      <td>chauncey6352@woohoo.com</td>\n",
              "      <td>955 Dewy Flat</td>\n",
              "      <td>Slaughterville</td>\n",
              "      <td>South Carolina</td>\n",
              "      <td>22167</td>\n",
              "    </tr>\n",
              "    <tr>\n",
              "      <th>80</th>\n",
              "      <td>81</td>\n",
              "      <td>Ellyn van Heest</td>\n",
              "      <td>1984-06-28</td>\n",
              "      <td>F</td>\n",
              "      <td>3.0</td>\n",
              "      <td>NaN</td>\n",
              "      <td>10.0</td>\n",
              "      <td>12.39</td>\n",
              "      <td>38.0</td>\n",
              "      <td>30</td>\n",
              "      <td>ellyn_vanheest8375@hmail.com</td>\n",
              "      <td>872 Cider Glade</td>\n",
              "      <td>Chicken</td>\n",
              "      <td>Delaware</td>\n",
              "      <td>42689</td>\n",
              "    </tr>\n",
              "    <tr>\n",
              "      <th>...</th>\n",
              "      <td>...</td>\n",
              "      <td>...</td>\n",
              "      <td>...</td>\n",
              "      <td>...</td>\n",
              "      <td>...</td>\n",
              "      <td>...</td>\n",
              "      <td>...</td>\n",
              "      <td>...</td>\n",
              "      <td>...</td>\n",
              "      <td>...</td>\n",
              "      <td>...</td>\n",
              "      <td>...</td>\n",
              "      <td>...</td>\n",
              "      <td>...</td>\n",
              "      <td>...</td>\n",
              "    </tr>\n",
              "    <tr>\n",
              "      <th>4889</th>\n",
              "      <td>4890</td>\n",
              "      <td>Tegan Cochran</td>\n",
              "      <td>1970-11-08</td>\n",
              "      <td>F</td>\n",
              "      <td>5.0</td>\n",
              "      <td>NaN</td>\n",
              "      <td>8.0</td>\n",
              "      <td>22.75</td>\n",
              "      <td>52.0</td>\n",
              "      <td>50</td>\n",
              "      <td>tegan130@inlook.com</td>\n",
              "      <td>106 Sunny Nook</td>\n",
              "      <td>Vernal</td>\n",
              "      <td>Georgia</td>\n",
              "      <td>10769</td>\n",
              "    </tr>\n",
              "    <tr>\n",
              "      <th>4898</th>\n",
              "      <td>4899</td>\n",
              "      <td>Ruthann Oliver</td>\n",
              "      <td>1998-05-22</td>\n",
              "      <td>F</td>\n",
              "      <td>3.0</td>\n",
              "      <td>NaN</td>\n",
              "      <td>7.0</td>\n",
              "      <td>21.27</td>\n",
              "      <td>24.0</td>\n",
              "      <td>20</td>\n",
              "      <td>ruthann1124@woohoo.com</td>\n",
              "      <td>644 Merry Island</td>\n",
              "      <td>Green Valley</td>\n",
              "      <td>Wyoming</td>\n",
              "      <td>91273</td>\n",
              "    </tr>\n",
              "    <tr>\n",
              "      <th>4914</th>\n",
              "      <td>4915</td>\n",
              "      <td>Ernest Holmes</td>\n",
              "      <td>1995-03-11</td>\n",
              "      <td>M</td>\n",
              "      <td>7.0</td>\n",
              "      <td>NaN</td>\n",
              "      <td>9.0</td>\n",
              "      <td>26.50</td>\n",
              "      <td>27.0</td>\n",
              "      <td>20</td>\n",
              "      <td>ernest_holmes505@hmail.com</td>\n",
              "      <td>872 Wintergreen Harbor</td>\n",
              "      <td>Gallitzin borough</td>\n",
              "      <td>Maine</td>\n",
              "      <td>50103</td>\n",
              "    </tr>\n",
              "    <tr>\n",
              "      <th>4980</th>\n",
              "      <td>4981</td>\n",
              "      <td>Brice Franklin</td>\n",
              "      <td>1946-12-01</td>\n",
              "      <td>M</td>\n",
              "      <td>4.0</td>\n",
              "      <td>NaN</td>\n",
              "      <td>5.0</td>\n",
              "      <td>8.66</td>\n",
              "      <td>76.0</td>\n",
              "      <td>70</td>\n",
              "      <td>brice9741@coldmail.com</td>\n",
              "      <td>947 Panda Way</td>\n",
              "      <td>New Bedford village</td>\n",
              "      <td>Vermont</td>\n",
              "      <td>31232</td>\n",
              "    </tr>\n",
              "    <tr>\n",
              "      <th>4985</th>\n",
              "      <td>4986</td>\n",
              "      <td>Russel Vonck</td>\n",
              "      <td>1994-09-07</td>\n",
              "      <td>M</td>\n",
              "      <td>5.0</td>\n",
              "      <td>NaN</td>\n",
              "      <td>5.0</td>\n",
              "      <td>16.44</td>\n",
              "      <td>28.0</td>\n",
              "      <td>20</td>\n",
              "      <td>russel_vonck2834@woohoo.com</td>\n",
              "      <td>815 Middle Timber Corner</td>\n",
              "      <td>Clawson</td>\n",
              "      <td>South Dakota</td>\n",
              "      <td>02949</td>\n",
              "    </tr>\n",
              "  </tbody>\n",
              "</table>\n",
              "<p>251 rows × 15 columns</p>\n",
              "</div>\n",
              "      <button class=\"colab-df-convert\" onclick=\"convertToInteractive('df-4ce30e91-ac2b-45e1-a256-96ecff4d6441')\"\n",
              "              title=\"Convert this dataframe to an interactive table.\"\n",
              "              style=\"display:none;\">\n",
              "        \n",
              "  <svg xmlns=\"http://www.w3.org/2000/svg\" height=\"24px\"viewBox=\"0 0 24 24\"\n",
              "       width=\"24px\">\n",
              "    <path d=\"M0 0h24v24H0V0z\" fill=\"none\"/>\n",
              "    <path d=\"M18.56 5.44l.94 2.06.94-2.06 2.06-.94-2.06-.94-.94-2.06-.94 2.06-2.06.94zm-11 1L8.5 8.5l.94-2.06 2.06-.94-2.06-.94L8.5 2.5l-.94 2.06-2.06.94zm10 10l.94 2.06.94-2.06 2.06-.94-2.06-.94-.94-2.06-.94 2.06-2.06.94z\"/><path d=\"M17.41 7.96l-1.37-1.37c-.4-.4-.92-.59-1.43-.59-.52 0-1.04.2-1.43.59L10.3 9.45l-7.72 7.72c-.78.78-.78 2.05 0 2.83L4 21.41c.39.39.9.59 1.41.59.51 0 1.02-.2 1.41-.59l7.78-7.78 2.81-2.81c.8-.78.8-2.07 0-2.86zM5.41 20L4 18.59l7.72-7.72 1.47 1.35L5.41 20z\"/>\n",
              "  </svg>\n",
              "      </button>\n",
              "      \n",
              "  <style>\n",
              "    .colab-df-container {\n",
              "      display:flex;\n",
              "      flex-wrap:wrap;\n",
              "      gap: 12px;\n",
              "    }\n",
              "\n",
              "    .colab-df-convert {\n",
              "      background-color: #E8F0FE;\n",
              "      border: none;\n",
              "      border-radius: 50%;\n",
              "      cursor: pointer;\n",
              "      display: none;\n",
              "      fill: #1967D2;\n",
              "      height: 32px;\n",
              "      padding: 0 0 0 0;\n",
              "      width: 32px;\n",
              "    }\n",
              "\n",
              "    .colab-df-convert:hover {\n",
              "      background-color: #E2EBFA;\n",
              "      box-shadow: 0px 1px 2px rgba(60, 64, 67, 0.3), 0px 1px 3px 1px rgba(60, 64, 67, 0.15);\n",
              "      fill: #174EA6;\n",
              "    }\n",
              "\n",
              "    [theme=dark] .colab-df-convert {\n",
              "      background-color: #3B4455;\n",
              "      fill: #D2E3FC;\n",
              "    }\n",
              "\n",
              "    [theme=dark] .colab-df-convert:hover {\n",
              "      background-color: #434B5C;\n",
              "      box-shadow: 0px 1px 3px 1px rgba(0, 0, 0, 0.15);\n",
              "      filter: drop-shadow(0px 1px 2px rgba(0, 0, 0, 0.3));\n",
              "      fill: #FFFFFF;\n",
              "    }\n",
              "  </style>\n",
              "\n",
              "      <script>\n",
              "        const buttonEl =\n",
              "          document.querySelector('#df-4ce30e91-ac2b-45e1-a256-96ecff4d6441 button.colab-df-convert');\n",
              "        buttonEl.style.display =\n",
              "          google.colab.kernel.accessAllowed ? 'block' : 'none';\n",
              "\n",
              "        async function convertToInteractive(key) {\n",
              "          const element = document.querySelector('#df-4ce30e91-ac2b-45e1-a256-96ecff4d6441');\n",
              "          const dataTable =\n",
              "            await google.colab.kernel.invokeFunction('convertToInteractive',\n",
              "                                                     [key], {});\n",
              "          if (!dataTable) return;\n",
              "\n",
              "          const docLinkHtml = 'Like what you see? Visit the ' +\n",
              "            '<a target=\"_blank\" href=https://colab.research.google.com/notebooks/data_table.ipynb>data table notebook</a>'\n",
              "            + ' to learn more about interactive tables.';\n",
              "          element.innerHTML = '';\n",
              "          dataTable['output_type'] = 'display_data';\n",
              "          await google.colab.output.renderOutput(dataTable, element);\n",
              "          const docLink = document.createElement('div');\n",
              "          docLink.innerHTML = docLinkHtml;\n",
              "          element.appendChild(docLink);\n",
              "        }\n",
              "      </script>\n",
              "    </div>\n",
              "  </div>\n",
              "  "
            ]
          },
          "metadata": {}
        }
      ]
    },
    {
      "cell_type": "code",
      "source": [
        "sg = (students.groupby('sex').count()['uuid']/len(students)).rename('complete')\n",
        "mg = (missing_course_taken.groupby('sex').count()['uuid']/len(missing_course_taken)).rename('incomplete')\n",
        "df = pd.concat([sg, mg], axis=1)\n",
        "df.plot.bar()"
      ],
      "metadata": {
        "colab": {
          "base_uri": "https://localhost:8080/",
          "height": 295
        },
        "id": "j_-LSSyHEjZP",
        "outputId": "66fe55f0-da9f-4e40-aa0d-d6152d05246d"
      },
      "execution_count": 24,
      "outputs": [
        {
          "output_type": "execute_result",
          "data": {
            "text/plain": [
              "<matplotlib.axes._subplots.AxesSubplot at 0x7ff6c2cb1070>"
            ]
          },
          "metadata": {},
          "execution_count": 24
        },
        {
          "output_type": "display_data",
          "data": {
            "text/plain": [
              "<Figure size 432x288 with 1 Axes>"
            ],
            "image/png": "[encoded data removed]"
          },
          "metadata": {
            "needs_background": "light"
          }
        }
      ]
    },
    {
      "cell_type": "code",
      "source": [
        "sg = (students.groupby('job_id').count()['uuid']/len(students)).rename('complete')\n",
        "mg = (missing_course_taken.groupby('job_id').count()['uuid']/len(missing_course_taken)).rename('incomplete')\n",
        "df = pd.concat([sg, mg], axis=1)\n",
        "df.plot.bar()"
      ],
      "metadata": {
        "colab": {
          "base_uri": "https://localhost:8080/",
          "height": 303
        },
        "id": "SZRYvy3tEmWv",
        "outputId": "5d09164a-1843-4710-9400-7046f3c74734"
      },
      "execution_count": 25,
      "outputs": [
        {
          "output_type": "execute_result",
          "data": {
            "text/plain": [
              "<matplotlib.axes._subplots.AxesSubplot at 0x7ff6c2bf0760>"
            ]
          },
          "metadata": {},
          "execution_count": 25
        },
        {
          "output_type": "display_data",
          "data": {
            "text/plain": [
              "<Figure size 432x288 with 1 Axes>"
            ],
            "image/png": "[encoded data removed]"
          },
          "metadata": {
            "needs_background": "light"
          }
        }
      ]
    },
    {
      "cell_type": "code",
      "source": [],
      "metadata": {
        "id": "a2hwQctVE_M_"
      },
      "execution_count": null,
      "outputs": []
    },
    {
      "cell_type": "code",
      "source": [
        "sg = (students.groupby('age_group').count()['uuid']/len(students)).rename('complete')\n",
        "mg = (missing_course_taken.groupby('age_group').count()['uuid']/len(missing_course_taken)).rename('incomplete')\n",
        "df = pd.concat([sg, mg], axis=1)\n",
        "df.plot.bar()"
      ],
      "metadata": {
        "colab": {
          "base_uri": "https://localhost:8080/",
          "height": 299
        },
        "id": "XikgQ5tiEk1n",
        "outputId": "c1636c95-6568-4a70-e47d-61bb25efe4b3"
      },
      "execution_count": 26,
      "outputs": [
        {
          "output_type": "execute_result",
          "data": {
            "text/plain": [
              "<matplotlib.axes._subplots.AxesSubplot at 0x7ff6c2734190>"
            ]
          },
          "metadata": {},
          "execution_count": 26
        },
        {
          "output_type": "display_data",
          "data": {
            "text/plain": [
              "<Figure size 432x288 with 1 Axes>"
            ],
            "image/png": "[encoded data removed]"
          },
          "metadata": {
            "needs_background": "light"
          }
        }
      ]
    },
    {
      "cell_type": "code",
      "source": [
        "missing_data = pd.DataFrame()\n",
        "missing_data = pd.concat([missing_data, missing_course_taken])\n",
        "students = students.dropna(subset=['num_course_taken'])"
      ],
      "metadata": {
        "id": "fhcDM2xXFmRI"
      },
      "execution_count": 27,
      "outputs": []
    },
    {
      "cell_type": "code",
      "source": [
        "students.info()"
      ],
      "metadata": {
        "colab": {
          "base_uri": "https://localhost:8080/"
        },
        "id": "z-QuOx1XFpFv",
        "outputId": "fdc6f3ac-ed26-4496-ef1a-01d5f786f224"
      },
      "execution_count": 28,
      "outputs": [
        {
          "output_type": "stream",
          "name": "stdout",
          "text": [
            "<class 'pandas.core.frame.DataFrame'>\n",
            "Int64Index: 4749 entries, 0 to 4999\n",
            "Data columns (total 15 columns):\n",
            " #   Column                  Non-Null Count  Dtype  \n",
            "---  ------                  --------------  -----  \n",
            " 0   uuid                    4749 non-null   int64  \n",
            " 1   name                    4749 non-null   object \n",
            " 2   dob                     4749 non-null   object \n",
            " 3   sex                     4749 non-null   object \n",
            " 4   job_id                  4744 non-null   float64\n",
            " 5   num_course_taken        4749 non-null   float64\n",
            " 6   current_career_path_id  4298 non-null   float64\n",
            " 7   time_spent_hrs          4298 non-null   float64\n",
            " 8   age                     4749 non-null   float64\n",
            " 9   age_group               4749 non-null   int64  \n",
            " 10  email                   4749 non-null   object \n",
            " 11  street                  4749 non-null   object \n",
            " 12  city                    4749 non-null   object \n",
            " 13  state                   4749 non-null   object \n",
            " 14  zip_code                4749 non-null   object \n",
            "dtypes: float64(5), int64(2), object(8)\n",
            "memory usage: 593.6+ KB\n"
          ]
        }
      ]
    },
    {
      "cell_type": "code",
      "source": [
        "missing_data = pd.DataFrame()\n",
        "missing_data = pd.concat([missing_data, missing_course_taken])\n",
        "students = students.dropna(subset=['num_course_taken'])"
      ],
      "metadata": {
        "id": "Qr9aq0DiIR1Z"
      },
      "execution_count": 29,
      "outputs": []
    },
    {
      "cell_type": "code",
      "source": [
        "students.info()"
      ],
      "metadata": {
        "colab": {
          "base_uri": "https://localhost:8080/"
        },
        "id": "dJElzIggIULh",
        "outputId": "f77268de-feec-4698-8417-688ea7cf1cd9"
      },
      "execution_count": 30,
      "outputs": [
        {
          "output_type": "stream",
          "name": "stdout",
          "text": [
            "<class 'pandas.core.frame.DataFrame'>\n",
            "Int64Index: 4749 entries, 0 to 4999\n",
            "Data columns (total 15 columns):\n",
            " #   Column                  Non-Null Count  Dtype  \n",
            "---  ------                  --------------  -----  \n",
            " 0   uuid                    4749 non-null   int64  \n",
            " 1   name                    4749 non-null   object \n",
            " 2   dob                     4749 non-null   object \n",
            " 3   sex                     4749 non-null   object \n",
            " 4   job_id                  4744 non-null   float64\n",
            " 5   num_course_taken        4749 non-null   float64\n",
            " 6   current_career_path_id  4298 non-null   float64\n",
            " 7   time_spent_hrs          4298 non-null   float64\n",
            " 8   age                     4749 non-null   float64\n",
            " 9   age_group               4749 non-null   int64  \n",
            " 10  email                   4749 non-null   object \n",
            " 11  street                  4749 non-null   object \n",
            " 12  city                    4749 non-null   object \n",
            " 13  state                   4749 non-null   object \n",
            " 14  zip_code                4749 non-null   object \n",
            "dtypes: float64(5), int64(2), object(8)\n",
            "memory usage: 593.6+ KB\n"
          ]
        }
      ]
    },
    {
      "cell_type": "markdown",
      "source": [
        "##job_id"
      ],
      "metadata": {
        "id": "N4C9Jwf6KCex"
      }
    },
    {
      "cell_type": "code",
      "source": [
        "missing_job_id = students[students[['job_id']].isnull().any(axis=1)]\n",
        "print(missing_job_id)"
      ],
      "metadata": {
        "colab": {
          "base_uri": "https://localhost:8080/"
        },
        "id": "Lgu6E2ckIbih",
        "outputId": "4aaca8b9-63cb-499e-c465-626b1eb64a54"
      },
      "execution_count": 33,
      "outputs": [
        {
          "output_type": "stream",
          "name": "stdout",
          "text": [
            "      uuid              name         dob sex  job_id  num_course_taken  \\\n",
            "162    163        Glen Riley  2002-08-22   M     NaN               8.0   \n",
            "757    758  Mercedez Vorberg  2002-03-25   F     NaN              15.0   \n",
            "854    855           Kurt Ho  2002-05-29   M     NaN               0.0   \n",
            "1029  1030      Penny Gaines  2002-03-01   N     NaN              15.0   \n",
            "1542  1543  Frederick Reilly  2002-11-13   M     NaN               7.0   \n",
            "\n",
            "      current_career_path_id  time_spent_hrs   age  age_group  \\\n",
            "162                      3.0            5.70  20.0         20   \n",
            "757                      4.0            4.14  20.0         20   \n",
            "854                      8.0           23.72  20.0         20   \n",
            "1029                     4.0           16.25  20.0         20   \n",
            "1542                     9.0           21.32  20.0         20   \n",
            "\n",
            "                                email             street               city  \\\n",
            "162          glen_riley4484@hmail.com     P.O. Box 37267    Cornlea village   \n",
            "757           mercedez6297@woohoo.com  284 Cedar Seventh     Virden village   \n",
            "854                 ho6107@inlook.com     P.O. Box 27254               Olin   \n",
            "1029             gaines2897@hmail.com     138 Misty Vale   Stockton borough   \n",
            "1542  frederick_reilly6971@woohoo.com     P.O. Box 40769      Quakervillage   \n",
            "\n",
            "               state zip_code  \n",
            "162        Tennessee    19192  \n",
            "757       Washington    60489  \n",
            "854    New Hampshire    60067  \n",
            "1029   West Virginia    53630  \n",
            "1542        Maryland    96218  \n"
          ]
        }
      ]
    },
    {
      "cell_type": "code",
      "source": [
        "missing_job_id.info()"
      ],
      "metadata": {
        "colab": {
          "base_uri": "https://localhost:8080/"
        },
        "id": "Wx1ecrklIp8Z",
        "outputId": "c5efef08-ba40-4356-da61-153df7524809"
      },
      "execution_count": 34,
      "outputs": [
        {
          "output_type": "stream",
          "name": "stdout",
          "text": [
            "<class 'pandas.core.frame.DataFrame'>\n",
            "Int64Index: 5 entries, 162 to 1542\n",
            "Data columns (total 15 columns):\n",
            " #   Column                  Non-Null Count  Dtype  \n",
            "---  ------                  --------------  -----  \n",
            " 0   uuid                    5 non-null      int64  \n",
            " 1   name                    5 non-null      object \n",
            " 2   dob                     5 non-null      object \n",
            " 3   sex                     5 non-null      object \n",
            " 4   job_id                  0 non-null      float64\n",
            " 5   num_course_taken        5 non-null      float64\n",
            " 6   current_career_path_id  5 non-null      float64\n",
            " 7   time_spent_hrs          5 non-null      float64\n",
            " 8   age                     5 non-null      float64\n",
            " 9   age_group               5 non-null      int64  \n",
            " 10  email                   5 non-null      object \n",
            " 11  street                  5 non-null      object \n",
            " 12  city                    5 non-null      object \n",
            " 13  state                   5 non-null      object \n",
            " 14  zip_code                5 non-null      object \n",
            "dtypes: float64(5), int64(2), object(8)\n",
            "memory usage: 640.0+ bytes\n"
          ]
        }
      ]
    },
    {
      "cell_type": "code",
      "source": [
        "missing_data = pd.concat([missing_data, missing_job_id])\n",
        "students = students.dropna(subset=['job_id'])"
      ],
      "metadata": {
        "id": "BA6UN1cOI6SB"
      },
      "execution_count": 35,
      "outputs": []
    },
    {
      "cell_type": "code",
      "source": [
        "students.info()"
      ],
      "metadata": {
        "colab": {
          "base_uri": "https://localhost:8080/"
        },
        "id": "QY57IHGyJCxS",
        "outputId": "d07493b0-8d7e-40bd-a481-5b4f90c08669"
      },
      "execution_count": 36,
      "outputs": [
        {
          "output_type": "stream",
          "name": "stdout",
          "text": [
            "<class 'pandas.core.frame.DataFrame'>\n",
            "Int64Index: 4744 entries, 0 to 4999\n",
            "Data columns (total 15 columns):\n",
            " #   Column                  Non-Null Count  Dtype  \n",
            "---  ------                  --------------  -----  \n",
            " 0   uuid                    4744 non-null   int64  \n",
            " 1   name                    4744 non-null   object \n",
            " 2   dob                     4744 non-null   object \n",
            " 3   sex                     4744 non-null   object \n",
            " 4   job_id                  4744 non-null   float64\n",
            " 5   num_course_taken        4744 non-null   float64\n",
            " 6   current_career_path_id  4293 non-null   float64\n",
            " 7   time_spent_hrs          4293 non-null   float64\n",
            " 8   age                     4744 non-null   float64\n",
            " 9   age_group               4744 non-null   int64  \n",
            " 10  email                   4744 non-null   object \n",
            " 11  street                  4744 non-null   object \n",
            " 12  city                    4744 non-null   object \n",
            " 13  state                   4744 non-null   object \n",
            " 14  zip_code                4744 non-null   object \n",
            "dtypes: float64(5), int64(2), object(8)\n",
            "memory usage: 593.0+ KB\n"
          ]
        }
      ]
    },
    {
      "cell_type": "markdown",
      "source": [
        "##current_career_path_id"
      ],
      "metadata": {
        "id": "JfGafX_LKJ5h"
      }
    },
    {
      "cell_type": "code",
      "source": [
        "missing_path_id = students[students[['current_career_path_id']].isnull().any(axis=1)]"
      ],
      "metadata": {
        "id": "IgaR4R06JLXa"
      },
      "execution_count": 37,
      "outputs": []
    },
    {
      "cell_type": "code",
      "source": [
        "print(missing_path_id)"
      ],
      "metadata": {
        "colab": {
          "base_uri": "https://localhost:8080/"
        },
        "id": "klyl2yqWJP8J",
        "outputId": "701ddc84-5938-41cb-8026-c53f20008c5e"
      },
      "execution_count": 38,
      "outputs": [
        {
          "output_type": "stream",
          "name": "stdout",
          "text": [
            "      uuid                   name         dob sex  job_id  num_course_taken  \\\n",
            "15      16          Norene Dalton  1976-04-30   F     6.0               0.0   \n",
            "19      20  Sofia van Steenbergen  1990-02-21   N     7.0              13.0   \n",
            "30      31      Christoper Warner  1989-12-28   M     2.0               5.0   \n",
            "49      50           Antony Horne  1996-05-29   M     3.0               2.0   \n",
            "54      55              Omar Bunk  1955-11-08   M     3.0              14.0   \n",
            "...    ...                    ...         ...  ..     ...               ...   \n",
            "4904  4905         Eduardo Daniel  2004-06-18   M     8.0              12.0   \n",
            "4922  4923      Francisco van Ede  1961-04-26   M     7.0               5.0   \n",
            "4948  4949      Dewitt van Malsem  1949-03-08   M     4.0               7.0   \n",
            "4956  4957          Todd Stamhuis  1961-06-15   M     7.0               8.0   \n",
            "4974  4975         Jorge Creelman  1944-11-24   M     2.0              15.0   \n",
            "\n",
            "      current_career_path_id  time_spent_hrs   age  age_group  \\\n",
            "15                       NaN             NaN  46.0         40   \n",
            "19                       NaN             NaN  32.0         30   \n",
            "30                       NaN             NaN  33.0         30   \n",
            "49                       NaN             NaN  26.0         20   \n",
            "54                       NaN             NaN  67.0         60   \n",
            "...                      ...             ...   ...        ...   \n",
            "4904                     NaN             NaN  18.0         10   \n",
            "4922                     NaN             NaN  61.0         60   \n",
            "4948                     NaN             NaN  73.0         70   \n",
            "4956                     NaN             NaN  61.0         60   \n",
            "4974                     NaN             NaN  78.0         70   \n",
            "\n",
            "                                email                    street  \\\n",
            "15        norene_dalton9509@hmail.com         130 Wishing Essex   \n",
            "19      vansteenbergen8482@inlook.com       634 Clear Barn Dell   \n",
            "30            warner5906@coldmail.com       556 Stony Highlands   \n",
            "49             antony577@coldmail.com            P.O. Box 78685   \n",
            "54              omar1245@coldmail.com           445 Dale Hollow   \n",
            "...                               ...                       ...   \n",
            "4904            daniel5073@inlook.com            598 Deer Trace   \n",
            "4922          vanede7845@coldmail.com          282 Fourth Trace   \n",
            "4948            dewitt4635@inlook.com          423 Course Trail   \n",
            "4956              todd8019@woohoo.com  251 Grand Rose Underpass   \n",
            "4974  jorge_creelman8261@coldmail.com         919 Well Overpass   \n",
            "\n",
            "                      city            state zip_code  \n",
            "15                  Branch             Ohio    13616  \n",
            "19                  Beaman          Georgia    33288  \n",
            "30                   Drain         Illinois    01973  \n",
            "49                   Lenox            Texas    15516  \n",
            "54         Vermont village   South Carolina    28329  \n",
            "...                    ...              ...      ...  \n",
            "4904          Forest Grove   North Carolina    45038  \n",
            "4922           Carter Lake             Ohio    63511  \n",
            "4948                Wilmot           Hawaii    18996  \n",
            "4956               Niagara     Pennsylvania    03430  \n",
            "4974   Lindenhurst village            Maine    33548  \n",
            "\n",
            "[451 rows x 15 columns]\n"
          ]
        }
      ]
    },
    {
      "cell_type": "code",
      "source": [
        "missing_path_id.info()"
      ],
      "metadata": {
        "colab": {
          "base_uri": "https://localhost:8080/"
        },
        "id": "mbg0kffAJW0I",
        "outputId": "7729112f-05fb-4085-e968-75cf81b88976"
      },
      "execution_count": 39,
      "outputs": [
        {
          "output_type": "stream",
          "name": "stdout",
          "text": [
            "<class 'pandas.core.frame.DataFrame'>\n",
            "Int64Index: 451 entries, 15 to 4974\n",
            "Data columns (total 15 columns):\n",
            " #   Column                  Non-Null Count  Dtype  \n",
            "---  ------                  --------------  -----  \n",
            " 0   uuid                    451 non-null    int64  \n",
            " 1   name                    451 non-null    object \n",
            " 2   dob                     451 non-null    object \n",
            " 3   sex                     451 non-null    object \n",
            " 4   job_id                  451 non-null    float64\n",
            " 5   num_course_taken        451 non-null    float64\n",
            " 6   current_career_path_id  0 non-null      float64\n",
            " 7   time_spent_hrs          0 non-null      float64\n",
            " 8   age                     451 non-null    float64\n",
            " 9   age_group               451 non-null    int64  \n",
            " 10  email                   451 non-null    object \n",
            " 11  street                  451 non-null    object \n",
            " 12  city                    451 non-null    object \n",
            " 13  state                   451 non-null    object \n",
            " 14  zip_code                451 non-null    object \n",
            "dtypes: float64(5), int64(2), object(8)\n",
            "memory usage: 56.4+ KB\n"
          ]
        }
      ]
    },
    {
      "cell_type": "code",
      "source": [
        "students['current_career_path_id'].unique()"
      ],
      "metadata": {
        "colab": {
          "base_uri": "https://localhost:8080/"
        },
        "id": "cYDx41wfJkeq",
        "outputId": "d4dc0213-c90c-41e1-d04a-5b5f534a1ed7"
      },
      "execution_count": 40,
      "outputs": [
        {
          "output_type": "execute_result",
          "data": {
            "text/plain": [
              "array([ 1.,  8.,  9.,  3.,  6., 10.,  5., nan,  4.,  7.,  2.])"
            ]
          },
          "metadata": {},
          "execution_count": 40
        }
      ]
    },
    {
      "cell_type": "code",
      "source": [
        "students['current_career_path_id'] = np.where(students['current_career_path_id'].isnull(), 0, students['current_career_path_id'])\n",
        "students['time_spent_hrs'] = np.where(students['time_spent_hrs'].isnull(), 0, students['time_spent_hrs'])"
      ],
      "metadata": {
        "id": "5H-JQXJxJoGC"
      },
      "execution_count": 41,
      "outputs": []
    },
    {
      "cell_type": "code",
      "source": [
        "students.info()"
      ],
      "metadata": {
        "colab": {
          "base_uri": "https://localhost:8080/"
        },
        "id": "nkU2GSQzJpdJ",
        "outputId": "e04b9fde-1fde-4a7e-b89a-8e7d218040fb"
      },
      "execution_count": 42,
      "outputs": [
        {
          "output_type": "stream",
          "name": "stdout",
          "text": [
            "<class 'pandas.core.frame.DataFrame'>\n",
            "Int64Index: 4744 entries, 0 to 4999\n",
            "Data columns (total 15 columns):\n",
            " #   Column                  Non-Null Count  Dtype  \n",
            "---  ------                  --------------  -----  \n",
            " 0   uuid                    4744 non-null   int64  \n",
            " 1   name                    4744 non-null   object \n",
            " 2   dob                     4744 non-null   object \n",
            " 3   sex                     4744 non-null   object \n",
            " 4   job_id                  4744 non-null   float64\n",
            " 5   num_course_taken        4744 non-null   float64\n",
            " 6   current_career_path_id  4744 non-null   float64\n",
            " 7   time_spent_hrs          4744 non-null   float64\n",
            " 8   age                     4744 non-null   float64\n",
            " 9   age_group               4744 non-null   int64  \n",
            " 10  email                   4744 non-null   object \n",
            " 11  street                  4744 non-null   object \n",
            " 12  city                    4744 non-null   object \n",
            " 13  state                   4744 non-null   object \n",
            " 14  zip_code                4744 non-null   object \n",
            "dtypes: float64(5), int64(2), object(8)\n",
            "memory usage: 593.0+ KB\n"
          ]
        }
      ]
    },
    {
      "cell_type": "markdown",
      "source": [
        "#Update Table"
      ],
      "metadata": {
        "id": "HhtdhISwKVOr"
      }
    },
    {
      "cell_type": "markdown",
      "source": [],
      "metadata": {
        "id": "BzBFF6XjKhiC"
      }
    },
    {
      "cell_type": "code",
      "source": [
        "from google.colab import files\n"
      ],
      "metadata": {
        "id": "W95Zm2UKhUPP"
      },
      "execution_count": 19,
      "outputs": []
    },
    {
      "cell_type": "code",
      "source": [
        "df.to_csv('output.csv', encoding = 'utf-8-sig') \n",
        "files.download('output.csv')"
      ],
      "metadata": {
        "colab": {
          "base_uri": "https://localhost:8080/",
          "height": 17
        },
        "id": "MrJx72mdhRkh",
        "outputId": "d1c5e6f9-050d-4a67-db30-729400641644"
      },
      "execution_count": null,
      "outputs": [
        {
          "output_type": "display_data",
          "data": {
            "text/plain": [
              "<IPython.core.display.Javascript object>"
            ],
            "application/javascript": [
              "\n",
              "    async function download(id, filename, size) {\n",
              "      if (!google.colab.kernel.accessAllowed) {\n",
              "        return;\n",
              "      }\n",
              "      const div = document.createElement('div');\n",
              "      const label = document.createElement('label');\n",
              "      label.textContent = `Downloading \"${filename}\": `;\n",
              "      div.appendChild(label);\n",
              "      const progress = document.createElement('progress');\n",
              "      progress.max = size;\n",
              "      div.appendChild(progress);\n",
              "      document.body.appendChild(div);\n",
              "\n",
              "      const buffers = [];\n",
              "      let downloaded = 0;\n",
              "\n",
              "      const channel = await google.colab.kernel.comms.open(id);\n",
              "      // Send a message to notify the kernel that we're ready.\n",
              "      channel.send({})\n",
              "\n",
              "      for await (const message of channel.messages) {\n",
              "        // Send a message to notify the kernel that we're ready.\n",
              "        channel.send({})\n",
              "        if (message.buffers) {\n",
              "          for (const buffer of message.buffers) {\n",
              "            buffers.push(buffer);\n",
              "            downloaded += buffer.byteLength;\n",
              "            progress.value = downloaded;\n",
              "          }\n",
              "        }\n",
              "      }\n",
              "      const blob = new Blob(buffers, {type: 'application/binary'});\n",
              "      const a = document.createElement('a');\n",
              "      a.href = window.URL.createObjectURL(blob);\n",
              "      a.download = filename;\n",
              "      div.appendChild(a);\n",
              "      a.click();\n",
              "      div.remove();\n",
              "    }\n",
              "  "
            ]
          },
          "metadata": {}
        },
        {
          "output_type": "display_data",
          "data": {
            "text/plain": [
              "<IPython.core.display.Javascript object>"
            ],
            "application/javascript": [
              "download(\"download_b6fa2a3e-9d66-4ce0-b676-97ea725c234a\", \"output.csv\", 833210)"
            ]
          },
          "metadata": {}
        }
      ]
    },
    {
      "cell_type": "code",
      "source": [
        "to_drop = ['time_spent_hrs']"
      ],
      "metadata": {
        "id": "lpH2CJsUoL5u"
      },
      "execution_count": null,
      "outputs": []
    },
    {
      "cell_type": "code",
      "source": [
        "data2 = df.drop(to_drop, inplace=True, axis=1)\n",
        "data2"
      ],
      "metadata": {
        "id": "-arRyOoHoWq3"
      },
      "execution_count": null,
      "outputs": []
    },
    {
      "cell_type": "code",
      "source": [],
      "metadata": {
        "id": "_N5xY_ySonWr"
      },
      "execution_count": null,
      "outputs": []
    },
    {
      "cell_type": "code",
      "source": [
        "filepath = Path('C:/Users/Hung/out.csv')  \n"
      ],
      "metadata": {
        "id": "N-BxTEwrXaiR"
      },
      "execution_count": null,
      "outputs": []
    },
    {
      "cell_type": "code",
      "source": [
        "filepath.parent.mkdir(parents=True, exist_ok=True)  \n",
        "df.to_csv(filepath) "
      ],
      "metadata": {
        "id": "qfHO8p5uXmU7"
      },
      "execution_count": null,
      "outputs": []
    }
  ]
}